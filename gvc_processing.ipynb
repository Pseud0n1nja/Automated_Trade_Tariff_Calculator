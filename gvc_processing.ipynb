{
 "cells": [
  {
   "cell_type": "code",
   "execution_count": 2,
   "metadata": {},
   "outputs": [],
   "source": [
    "import pandas as pd"
   ]
  },
  {
   "cell_type": "code",
   "execution_count": 3,
   "metadata": {},
   "outputs": [],
   "source": [
    "import os\n",
    "os.chdir(\"/Users/spiff/Documents/Data Playground/State Trade Analysis\")"
   ]
  },
  {
   "cell_type": "code",
   "execution_count": 4,
   "metadata": {},
   "outputs": [
    {
     "data": {
      "text/plain": [
       "'/Users/spiff/Documents/Data Playground/State Trade Analysis'"
      ]
     },
     "execution_count": 4,
     "metadata": {},
     "output_type": "execute_result"
    }
   ],
   "source": [
    "os.getcwd()"
   ]
  },
  {
   "cell_type": "code",
   "execution_count": 5,
   "metadata": {},
   "outputs": [],
   "source": [
    "gvc_class = pd.read_excel(\"GVC_Classifcation.xlsx\")"
   ]
  },
  {
   "cell_type": "code",
   "execution_count": 6,
   "metadata": {},
   "outputs": [
    {
     "data": {
      "text/html": [
       "<div>\n",
       "<style scoped>\n",
       "    .dataframe tbody tr th:only-of-type {\n",
       "        vertical-align: middle;\n",
       "    }\n",
       "\n",
       "    .dataframe tbody tr th {\n",
       "        vertical-align: top;\n",
       "    }\n",
       "\n",
       "    .dataframe thead th {\n",
       "        text-align: right;\n",
       "    }\n",
       "</style>\n",
       "<table border=\"1\" class=\"dataframe\">\n",
       "  <thead>\n",
       "    <tr style=\"text-align: right;\">\n",
       "      <th></th>\n",
       "      <th>Nomencode</th>\n",
       "      <th>ProductGroupCode</th>\n",
       "      <th>ProductGroupName</th>\n",
       "      <th>ProductCode</th>\n",
       "      <th>Productdescription</th>\n",
       "    </tr>\n",
       "  </thead>\n",
       "  <tbody>\n",
       "    <tr>\n",
       "      <th>0</th>\n",
       "      <td>H4</td>\n",
       "      <td>FinalApparel</td>\n",
       "      <td>Final Apparel</td>\n",
       "      <td>420310</td>\n",
       "      <td>- Articles of apparel</td>\n",
       "    </tr>\n",
       "    <tr>\n",
       "      <th>1</th>\n",
       "      <td>H4</td>\n",
       "      <td>FinalApparel</td>\n",
       "      <td>Final Apparel</td>\n",
       "      <td>420329</td>\n",
       "      <td>-- Other</td>\n",
       "    </tr>\n",
       "    <tr>\n",
       "      <th>2</th>\n",
       "      <td>H4</td>\n",
       "      <td>FinalApparel</td>\n",
       "      <td>Final Apparel</td>\n",
       "      <td>420330</td>\n",
       "      <td>- Belts and bandoliers</td>\n",
       "    </tr>\n",
       "    <tr>\n",
       "      <th>3</th>\n",
       "      <td>H4</td>\n",
       "      <td>FinalApparel</td>\n",
       "      <td>Final Apparel</td>\n",
       "      <td>420340</td>\n",
       "      <td>- Other clothing accessories</td>\n",
       "    </tr>\n",
       "    <tr>\n",
       "      <th>4</th>\n",
       "      <td>H4</td>\n",
       "      <td>FinalApparel</td>\n",
       "      <td>Final Apparel</td>\n",
       "      <td>610120</td>\n",
       "      <td>- Of cotton</td>\n",
       "    </tr>\n",
       "  </tbody>\n",
       "</table>\n",
       "</div>"
      ],
      "text/plain": [
       "  Nomencode ProductGroupCode ProductGroupName  ProductCode  \\\n",
       "0        H4     FinalApparel    Final Apparel       420310   \n",
       "1        H4     FinalApparel    Final Apparel       420329   \n",
       "2        H4     FinalApparel    Final Apparel       420330   \n",
       "3        H4     FinalApparel    Final Apparel       420340   \n",
       "4        H4     FinalApparel    Final Apparel       610120   \n",
       "\n",
       "             Productdescription  \n",
       "0         - Articles of apparel  \n",
       "1                      -- Other  \n",
       "2        - Belts and bandoliers  \n",
       "3  - Other clothing accessories  \n",
       "4                   - Of cotton  "
      ]
     },
     "execution_count": 6,
     "metadata": {},
     "output_type": "execute_result"
    }
   ],
   "source": [
    "gvc_class.head()"
   ]
  },
  {
   "cell_type": "code",
   "execution_count": 7,
   "metadata": {},
   "outputs": [
    {
     "name": "stdout",
     "output_type": "stream",
     "text": [
      "<class 'pandas.core.frame.DataFrame'>\n",
      "RangeIndex: 1807 entries, 0 to 1806\n",
      "Data columns (total 5 columns):\n",
      " #   Column              Non-Null Count  Dtype \n",
      "---  ------              --------------  ----- \n",
      " 0   Nomencode           1807 non-null   object\n",
      " 1   ProductGroupCode    1807 non-null   object\n",
      " 2   ProductGroupName    1807 non-null   object\n",
      " 3   ProductCode         1807 non-null   int64 \n",
      " 4   Productdescription  1807 non-null   object\n",
      "dtypes: int64(1), object(4)\n",
      "memory usage: 70.7+ KB\n"
     ]
    }
   ],
   "source": [
    "gvc_class.info()"
   ]
  },
  {
   "cell_type": "code",
   "execution_count": 8,
   "metadata": {},
   "outputs": [
    {
     "name": "stdout",
     "output_type": "stream",
     "text": [
      "Nomencode             0\n",
      "ProductGroupCode      0\n",
      "ProductGroupName      0\n",
      "ProductCode           0\n",
      "Productdescription    0\n",
      "dtype: int64\n",
      "False\n",
      "0\n"
     ]
    }
   ],
   "source": [
    "# check for NA values in dataset\n",
    "print(gvc_class.isnull().sum())\n",
    "print(gvc_class.isnull().values.any())\n",
    "print(gvc_class.isnull().values.sum())"
   ]
  },
  {
   "cell_type": "code",
   "execution_count": 9,
   "metadata": {},
   "outputs": [
    {
     "data": {
      "text/plain": [
       "(1807, 5)"
      ]
     },
     "execution_count": 9,
     "metadata": {},
     "output_type": "execute_result"
    }
   ],
   "source": [
    "gvc_class.shape"
   ]
  },
  {
   "cell_type": "code",
   "execution_count": 10,
   "metadata": {},
   "outputs": [
    {
     "name": "stdout",
     "output_type": "stream",
     "text": [
      "Nomencode                                                          [H4]\n",
      "ProductGroupCode      [FinalApparel, FinalApprlFoot, FinalAutosCom, ...\n",
      "ProductGroupName      [Final Apparel, Final Apparel & Footwear, Fina...\n",
      "ProductCode           [420310, 420329, 420330, 420340, 610120, 61013...\n",
      "Productdescription    [- Articles of apparel, -- Other, - Belts and ...\n",
      "dtype: object\n"
     ]
    }
   ],
   "source": [
    "print(gvc_class.apply(lambda col: col.unique()))"
   ]
  },
  {
   "cell_type": "code",
   "execution_count": 11,
   "metadata": {},
   "outputs": [
    {
     "name": "stdout",
     "output_type": "stream",
     "text": [
      "Nomencode                1\n",
      "ProductGroupCode        13\n",
      "ProductGroupName        13\n",
      "ProductCode           1112\n",
      "Productdescription     487\n",
      "dtype: int64\n"
     ]
    }
   ],
   "source": [
    "print(gvc_class.apply(lambda col: col.nunique()))"
   ]
  },
  {
   "cell_type": "code",
   "execution_count": 12,
   "metadata": {},
   "outputs": [
    {
     "data": {
      "text/html": [
       "<div>\n",
       "<style scoped>\n",
       "    .dataframe tbody tr th:only-of-type {\n",
       "        vertical-align: middle;\n",
       "    }\n",
       "\n",
       "    .dataframe tbody tr th {\n",
       "        vertical-align: top;\n",
       "    }\n",
       "\n",
       "    .dataframe thead th {\n",
       "        text-align: right;\n",
       "    }\n",
       "</style>\n",
       "<table border=\"1\" class=\"dataframe\">\n",
       "  <thead>\n",
       "    <tr style=\"text-align: right;\">\n",
       "      <th></th>\n",
       "      <th>Nomencode</th>\n",
       "      <th>ProductGroupCode</th>\n",
       "      <th>ProductGroupName</th>\n",
       "      <th>ProductCode</th>\n",
       "      <th>Productdescription</th>\n",
       "    </tr>\n",
       "  </thead>\n",
       "  <tbody>\n",
       "    <tr>\n",
       "      <th>226</th>\n",
       "      <td>H4</td>\n",
       "      <td>FinalApprlFoot</td>\n",
       "      <td>Final Apparel &amp; Footwear</td>\n",
       "      <td>420310</td>\n",
       "      <td>- Articles of apparel</td>\n",
       "    </tr>\n",
       "    <tr>\n",
       "      <th>227</th>\n",
       "      <td>H4</td>\n",
       "      <td>FinalApprlFoot</td>\n",
       "      <td>Final Apparel &amp; Footwear</td>\n",
       "      <td>420329</td>\n",
       "      <td>-- Other</td>\n",
       "    </tr>\n",
       "    <tr>\n",
       "      <th>228</th>\n",
       "      <td>H4</td>\n",
       "      <td>FinalApprlFoot</td>\n",
       "      <td>Final Apparel &amp; Footwear</td>\n",
       "      <td>420330</td>\n",
       "      <td>- Belts and bandoliers</td>\n",
       "    </tr>\n",
       "    <tr>\n",
       "      <th>229</th>\n",
       "      <td>H4</td>\n",
       "      <td>FinalApprlFoot</td>\n",
       "      <td>Final Apparel &amp; Footwear</td>\n",
       "      <td>420340</td>\n",
       "      <td>- Other clothing accessories</td>\n",
       "    </tr>\n",
       "    <tr>\n",
       "      <th>230</th>\n",
       "      <td>H4</td>\n",
       "      <td>FinalApprlFoot</td>\n",
       "      <td>Final Apparel &amp; Footwear</td>\n",
       "      <td>610120</td>\n",
       "      <td>- Of cotton</td>\n",
       "    </tr>\n",
       "    <tr>\n",
       "      <th>...</th>\n",
       "      <td>...</td>\n",
       "      <td>...</td>\n",
       "      <td>...</td>\n",
       "      <td>...</td>\n",
       "      <td>...</td>\n",
       "    </tr>\n",
       "    <tr>\n",
       "      <th>1795</th>\n",
       "      <td>H4</td>\n",
       "      <td>InterElectronic</td>\n",
       "      <td>Intermediate Electronics</td>\n",
       "      <td>854810</td>\n",
       "      <td>-Waste and scrap of primary cells, primary bat...</td>\n",
       "    </tr>\n",
       "    <tr>\n",
       "      <th>1796</th>\n",
       "      <td>H4</td>\n",
       "      <td>InterElectronic</td>\n",
       "      <td>Intermediate Electronics</td>\n",
       "      <td>854890</td>\n",
       "      <td>- Other</td>\n",
       "    </tr>\n",
       "    <tr>\n",
       "      <th>1804</th>\n",
       "      <td>H4</td>\n",
       "      <td>InterFootwear</td>\n",
       "      <td>Intermediate Footwear</td>\n",
       "      <td>640610</td>\n",
       "      <td>- Uppers and parts thereof, other than stiffeners</td>\n",
       "    </tr>\n",
       "    <tr>\n",
       "      <th>1805</th>\n",
       "      <td>H4</td>\n",
       "      <td>InterFootwear</td>\n",
       "      <td>Intermediate Footwear</td>\n",
       "      <td>640620</td>\n",
       "      <td>- Outer soles and heels, of rubber or plastics</td>\n",
       "    </tr>\n",
       "    <tr>\n",
       "      <th>1806</th>\n",
       "      <td>H4</td>\n",
       "      <td>InterFootwear</td>\n",
       "      <td>Intermediate Footwear</td>\n",
       "      <td>640690</td>\n",
       "      <td>- Other</td>\n",
       "    </tr>\n",
       "  </tbody>\n",
       "</table>\n",
       "<p>695 rows × 5 columns</p>\n",
       "</div>"
      ],
      "text/plain": [
       "     Nomencode ProductGroupCode          ProductGroupName  ProductCode  \\\n",
       "226         H4   FinalApprlFoot  Final Apparel & Footwear       420310   \n",
       "227         H4   FinalApprlFoot  Final Apparel & Footwear       420329   \n",
       "228         H4   FinalApprlFoot  Final Apparel & Footwear       420330   \n",
       "229         H4   FinalApprlFoot  Final Apparel & Footwear       420340   \n",
       "230         H4   FinalApprlFoot  Final Apparel & Footwear       610120   \n",
       "...        ...              ...                       ...          ...   \n",
       "1795        H4  InterElectronic  Intermediate Electronics       854810   \n",
       "1796        H4  InterElectronic  Intermediate Electronics       854890   \n",
       "1804        H4    InterFootwear     Intermediate Footwear       640610   \n",
       "1805        H4    InterFootwear     Intermediate Footwear       640620   \n",
       "1806        H4    InterFootwear     Intermediate Footwear       640690   \n",
       "\n",
       "                                     Productdescription  \n",
       "226                               - Articles of apparel  \n",
       "227                                            -- Other  \n",
       "228                              - Belts and bandoliers  \n",
       "229                        - Other clothing accessories  \n",
       "230                                         - Of cotton  \n",
       "...                                                 ...  \n",
       "1795  -Waste and scrap of primary cells, primary bat...  \n",
       "1796                                            - Other  \n",
       "1804  - Uppers and parts thereof, other than stiffeners  \n",
       "1805     - Outer soles and heels, of rubber or plastics  \n",
       "1806                                            - Other  \n",
       "\n",
       "[695 rows x 5 columns]"
      ]
     },
     "execution_count": 12,
     "metadata": {},
     "output_type": "execute_result"
    }
   ],
   "source": [
    "gvc_class[gvc_class.duplicated(['ProductCode'])]"
   ]
  },
  {
   "cell_type": "code",
   "execution_count": 13,
   "metadata": {},
   "outputs": [
    {
     "data": {
      "text/plain": [
       "1807"
      ]
     },
     "execution_count": 13,
     "metadata": {},
     "output_type": "execute_result"
    }
   ],
   "source": [
    "1112 + 695"
   ]
  },
  {
   "cell_type": "code",
   "execution_count": 14,
   "metadata": {},
   "outputs": [],
   "source": [
    "## Pivot table to identify the one-to-many mapping\n",
    "code_to_product = gvc_class.pivot_table(index = ['ProductCode', 'ProductGroupName'], aggfunc ='size')"
   ]
  },
  {
   "cell_type": "code",
   "execution_count": 15,
   "metadata": {},
   "outputs": [],
   "source": [
    "code_to_product.to_csv(\"code_to_product.csv\", sep = ',')"
   ]
  },
  {
   "cell_type": "code",
   "execution_count": 16,
   "metadata": {},
   "outputs": [],
   "source": [
    "code_reps = gvc_class.pivot_table(index = ['ProductCode'], aggfunc ='size')"
   ]
  },
  {
   "cell_type": "code",
   "execution_count": 17,
   "metadata": {},
   "outputs": [],
   "source": [
    "code_reps.to_csv(\"code_reps.csv\", sep = ',')"
   ]
  },
  {
   "cell_type": "code",
   "execution_count": 18,
   "metadata": {},
   "outputs": [
    {
     "data": {
      "text/plain": [
       "ProductGroupName\n",
       "Final Apparel                      226\n",
       "Final Apparel & Footwear           248\n",
       "Final Electronics                  195\n",
       "Final Footwear                      22\n",
       "Final Textiles                     123\n",
       "Final Vehicles (Pass+Comm)          38\n",
       "Final Vehicles Commercial           24\n",
       "Final Vehicles Passenger            14\n",
       "Intermediate Apparel               388\n",
       "Intermediate Apparel & Footwear    391\n",
       "Intermediate Electronics            73\n",
       "Intermediate Footwear                3\n",
       "Intermediate Vehicles               62\n",
       "dtype: int64"
      ]
     },
     "execution_count": 18,
     "metadata": {},
     "output_type": "execute_result"
    }
   ],
   "source": [
    "# Count of each product group name \n",
    "code_to_product.groupby('ProductGroupName').count()"
   ]
  },
  {
   "attachments": {},
   "cell_type": "markdown",
   "metadata": {},
   "source": [
    "### It can be noticed the Apparel & Footwear are usually higher in number with respect to the individual ones"
   ]
  },
  {
   "cell_type": "code",
   "execution_count": 19,
   "metadata": {},
   "outputs": [],
   "source": [
    "imports = pd.read_csv(\"India Imports_ Commodity Wise (21-22).csv\")"
   ]
  },
  {
   "cell_type": "code",
   "execution_count": 20,
   "metadata": {},
   "outputs": [
    {
     "data": {
      "text/html": [
       "<div>\n",
       "<style scoped>\n",
       "    .dataframe tbody tr th:only-of-type {\n",
       "        vertical-align: middle;\n",
       "    }\n",
       "\n",
       "    .dataframe tbody tr th {\n",
       "        vertical-align: top;\n",
       "    }\n",
       "\n",
       "    .dataframe thead th {\n",
       "        text-align: right;\n",
       "    }\n",
       "</style>\n",
       "<table border=\"1\" class=\"dataframe\">\n",
       "  <thead>\n",
       "    <tr style=\"text-align: right;\">\n",
       "      <th></th>\n",
       "      <th>S.No.</th>\n",
       "      <th>HSCode</th>\n",
       "      <th>Commodity</th>\n",
       "      <th>2020-2021</th>\n",
       "      <th>%Share</th>\n",
       "      <th>2021-2022</th>\n",
       "      <th>%Share.1</th>\n",
       "      <th>%Growth</th>\n",
       "    </tr>\n",
       "  </thead>\n",
       "  <tbody>\n",
       "    <tr>\n",
       "      <th>0</th>\n",
       "      <td>1</td>\n",
       "      <td>1012100.0</td>\n",
       "      <td>PURE-BRED BREEDING HORSES</td>\n",
       "      <td>1.24</td>\n",
       "      <td>0.0003</td>\n",
       "      <td>1.01</td>\n",
       "      <td>0.0002</td>\n",
       "      <td>-18.37</td>\n",
       "    </tr>\n",
       "    <tr>\n",
       "      <th>1</th>\n",
       "      <td>2</td>\n",
       "      <td>1012910.0</td>\n",
       "      <td>HORSES FOR POLO</td>\n",
       "      <td>0.32</td>\n",
       "      <td>0.0001</td>\n",
       "      <td>NaN</td>\n",
       "      <td>NaN</td>\n",
       "      <td>NaN</td>\n",
       "    </tr>\n",
       "    <tr>\n",
       "      <th>2</th>\n",
       "      <td>3</td>\n",
       "      <td>1012990.0</td>\n",
       "      <td>OTHER HORSES</td>\n",
       "      <td>0.95</td>\n",
       "      <td>0.0002</td>\n",
       "      <td>1.78</td>\n",
       "      <td>0.0003</td>\n",
       "      <td>87.65</td>\n",
       "    </tr>\n",
       "    <tr>\n",
       "      <th>3</th>\n",
       "      <td>4</td>\n",
       "      <td>1019090.0</td>\n",
       "      <td>MULES,HINNIES OTHR THN LIVESTOCK</td>\n",
       "      <td>0</td>\n",
       "      <td>0.0000</td>\n",
       "      <td>0</td>\n",
       "      <td>0.0000</td>\n",
       "      <td>-92.31</td>\n",
       "    </tr>\n",
       "    <tr>\n",
       "      <th>4</th>\n",
       "      <td>5</td>\n",
       "      <td>1022110.0</td>\n",
       "      <td>BULLS FOR PURE BRED BREEDING</td>\n",
       "      <td>1.97</td>\n",
       "      <td>0.0005</td>\n",
       "      <td>NaN</td>\n",
       "      <td>NaN</td>\n",
       "      <td>NaN</td>\n",
       "    </tr>\n",
       "  </tbody>\n",
       "</table>\n",
       "</div>"
      ],
      "text/plain": [
       "  S.No.     HSCode                         Commodity 2020-2021  %Share  \\\n",
       "0     1  1012100.0         PURE-BRED BREEDING HORSES      1.24  0.0003   \n",
       "1     2  1012910.0                   HORSES FOR POLO      0.32  0.0001   \n",
       "2     3  1012990.0                      OTHER HORSES      0.95  0.0002   \n",
       "3     4  1019090.0  MULES,HINNIES OTHR THN LIVESTOCK         0  0.0000   \n",
       "4     5  1022110.0      BULLS FOR PURE BRED BREEDING      1.97  0.0005   \n",
       "\n",
       "  2021-2022  %Share.1 %Growth  \n",
       "0      1.01    0.0002  -18.37  \n",
       "1       NaN       NaN     NaN  \n",
       "2      1.78    0.0003   87.65  \n",
       "3         0    0.0000  -92.31  \n",
       "4       NaN       NaN     NaN  "
      ]
     },
     "execution_count": 20,
     "metadata": {},
     "output_type": "execute_result"
    }
   ],
   "source": [
    "imports.head()"
   ]
  },
  {
   "cell_type": "code",
   "execution_count": 23,
   "metadata": {},
   "outputs": [
    {
     "name": "stdout",
     "output_type": "stream",
     "text": [
      "<class 'pandas.core.frame.DataFrame'>\n",
      "RangeIndex: 10347 entries, 0 to 10346\n",
      "Data columns (total 8 columns):\n",
      " #   Column     Non-Null Count  Dtype  \n",
      "---  ------     --------------  -----  \n",
      " 0   S.No.      10345 non-null  object \n",
      " 1   HSCode     10344 non-null  object \n",
      " 2   Commodity  10345 non-null  object \n",
      " 3   2020-2021  9741 non-null   object \n",
      " 4   %Share     9740 non-null   float64\n",
      " 5   2021-2022  9745 non-null   object \n",
      " 6   %Share.1   9744 non-null   float64\n",
      " 7   %Growth    9258 non-null   object \n",
      "dtypes: float64(2), object(6)\n",
      "memory usage: 646.8+ KB\n"
     ]
    }
   ],
   "source": [
    "imports.info()"
   ]
  },
  {
   "cell_type": "code",
   "execution_count": 22,
   "metadata": {},
   "outputs": [],
   "source": [
    "imports['HSCode'] = imports['HSCode'].astype(object)"
   ]
  },
  {
   "cell_type": "code",
   "execution_count": 26,
   "metadata": {},
   "outputs": [
    {
     "data": {
      "text/html": [
       "<div>\n",
       "<style scoped>\n",
       "    .dataframe tbody tr th:only-of-type {\n",
       "        vertical-align: middle;\n",
       "    }\n",
       "\n",
       "    .dataframe tbody tr th {\n",
       "        vertical-align: top;\n",
       "    }\n",
       "\n",
       "    .dataframe thead th {\n",
       "        text-align: right;\n",
       "    }\n",
       "</style>\n",
       "<table border=\"1\" class=\"dataframe\">\n",
       "  <thead>\n",
       "    <tr style=\"text-align: right;\">\n",
       "      <th></th>\n",
       "      <th>S.No.</th>\n",
       "      <th>HSCode</th>\n",
       "      <th>Commodity</th>\n",
       "      <th>2020-2021</th>\n",
       "      <th>%Share</th>\n",
       "      <th>2021-2022</th>\n",
       "      <th>%Share.1</th>\n",
       "      <th>%Growth</th>\n",
       "    </tr>\n",
       "  </thead>\n",
       "  <tbody>\n",
       "    <tr>\n",
       "      <th>3548</th>\n",
       "      <td>3549</td>\n",
       "      <td>39074000.0</td>\n",
       "      <td>POLYCARBONATES</td>\n",
       "      <td>362.71</td>\n",
       "      <td>0.092</td>\n",
       "      <td>637.81</td>\n",
       "      <td>0.104</td>\n",
       "      <td>75.85</td>\n",
       "    </tr>\n",
       "  </tbody>\n",
       "</table>\n",
       "</div>"
      ],
      "text/plain": [
       "     S.No.      HSCode       Commodity 2020-2021  %Share 2021-2022  %Share.1  \\\n",
       "3548  3549  39074000.0  POLYCARBONATES    362.71   0.092    637.81     0.104   \n",
       "\n",
       "     %Growth  \n",
       "3548   75.85  "
      ]
     },
     "execution_count": 26,
     "metadata": {},
     "output_type": "execute_result"
    }
   ],
   "source": [
    "imports.loc[imports['HSCode'] == 39074000]"
   ]
  },
  {
   "cell_type": "code",
   "execution_count": 30,
   "metadata": {},
   "outputs": [
    {
     "data": {
      "text/html": [
       "<div>\n",
       "<style scoped>\n",
       "    .dataframe tbody tr th:only-of-type {\n",
       "        vertical-align: middle;\n",
       "    }\n",
       "\n",
       "    .dataframe tbody tr th {\n",
       "        vertical-align: top;\n",
       "    }\n",
       "\n",
       "    .dataframe thead th {\n",
       "        text-align: right;\n",
       "    }\n",
       "</style>\n",
       "<table border=\"1\" class=\"dataframe\">\n",
       "  <thead>\n",
       "    <tr style=\"text-align: right;\">\n",
       "      <th></th>\n",
       "      <th>S.No.</th>\n",
       "      <th>HSCode</th>\n",
       "      <th>Commodity</th>\n",
       "      <th>2020-2021</th>\n",
       "      <th>%Share</th>\n",
       "      <th>2021-2022</th>\n",
       "      <th>%Share.1</th>\n",
       "      <th>%Growth</th>\n",
       "    </tr>\n",
       "  </thead>\n",
       "  <tbody>\n",
       "    <tr>\n",
       "      <th>3548</th>\n",
       "      <td>3549</td>\n",
       "      <td>39074000.0</td>\n",
       "      <td>POLYCARBONATES</td>\n",
       "      <td>362.71</td>\n",
       "      <td>0.0920</td>\n",
       "      <td>637.81</td>\n",
       "      <td>0.1040</td>\n",
       "      <td>75.85</td>\n",
       "    </tr>\n",
       "    <tr>\n",
       "      <th>3686</th>\n",
       "      <td>3687</td>\n",
       "      <td>39199090.0</td>\n",
       "      <td>OTHER SELF-ADHSV PLTS ETC NES</td>\n",
       "      <td>322.22</td>\n",
       "      <td>0.0817</td>\n",
       "      <td>396.97</td>\n",
       "      <td>0.0648</td>\n",
       "      <td>23.2</td>\n",
       "    </tr>\n",
       "  </tbody>\n",
       "</table>\n",
       "</div>"
      ],
      "text/plain": [
       "     S.No.      HSCode                      Commodity 2020-2021  %Share  \\\n",
       "3548  3549  39074000.0                 POLYCARBONATES    362.71  0.0920   \n",
       "3686  3687  39199090.0  OTHER SELF-ADHSV PLTS ETC NES    322.22  0.0817   \n",
       "\n",
       "     2021-2022  %Share.1 %Growth  \n",
       "3548    637.81    0.1040   75.85  \n",
       "3686    396.97    0.0648    23.2  "
      ]
     },
     "execution_count": 30,
     "metadata": {},
     "output_type": "execute_result"
    }
   ],
   "source": [
    "\n",
    "imports[(imports['HSCode'] == 39074000) | (imports['HSCode'] == 39199090)]"
   ]
  },
  {
   "cell_type": "code",
   "execution_count": 33,
   "metadata": {},
   "outputs": [],
   "source": [
    "# inputs of mechanics/metal mechanics \n",
    "io_mechanics = imports[(imports['HSCode'] == 39074000) |\n",
    "(imports['HSCode'] == 39199090) |\n",
    "(imports['HSCode'] == 35069999) |\n",
    "(imports['HSCode'] == 72101290)]"
   ]
  },
  {
   "cell_type": "code",
   "execution_count": 34,
   "metadata": {},
   "outputs": [
    {
     "data": {
      "text/html": [
       "<div>\n",
       "<style scoped>\n",
       "    .dataframe tbody tr th:only-of-type {\n",
       "        vertical-align: middle;\n",
       "    }\n",
       "\n",
       "    .dataframe tbody tr th {\n",
       "        vertical-align: top;\n",
       "    }\n",
       "\n",
       "    .dataframe thead th {\n",
       "        text-align: right;\n",
       "    }\n",
       "</style>\n",
       "<table border=\"1\" class=\"dataframe\">\n",
       "  <thead>\n",
       "    <tr style=\"text-align: right;\">\n",
       "      <th></th>\n",
       "      <th>S.No.</th>\n",
       "      <th>HSCode</th>\n",
       "      <th>Commodity</th>\n",
       "      <th>2020-2021</th>\n",
       "      <th>%Share</th>\n",
       "      <th>2021-2022</th>\n",
       "      <th>%Share.1</th>\n",
       "      <th>%Growth</th>\n",
       "    </tr>\n",
       "  </thead>\n",
       "  <tbody>\n",
       "    <tr>\n",
       "      <th>3267</th>\n",
       "      <td>3268</td>\n",
       "      <td>35069999.0</td>\n",
       "      <td>OTHR PRPD GLUES AND OTHR ADHSVS NES</td>\n",
       "      <td>86.32</td>\n",
       "      <td>0.0219</td>\n",
       "      <td>109.57</td>\n",
       "      <td>0.0179</td>\n",
       "      <td>26.94</td>\n",
       "    </tr>\n",
       "    <tr>\n",
       "      <th>3548</th>\n",
       "      <td>3549</td>\n",
       "      <td>39074000.0</td>\n",
       "      <td>POLYCARBONATES</td>\n",
       "      <td>362.71</td>\n",
       "      <td>0.0920</td>\n",
       "      <td>637.81</td>\n",
       "      <td>0.1040</td>\n",
       "      <td>75.85</td>\n",
       "    </tr>\n",
       "    <tr>\n",
       "      <th>3686</th>\n",
       "      <td>3687</td>\n",
       "      <td>39199090.0</td>\n",
       "      <td>OTHER SELF-ADHSV PLTS ETC NES</td>\n",
       "      <td>322.22</td>\n",
       "      <td>0.0817</td>\n",
       "      <td>396.97</td>\n",
       "      <td>0.0648</td>\n",
       "      <td>23.2</td>\n",
       "    </tr>\n",
       "    <tr>\n",
       "      <th>6801</th>\n",
       "      <td>6802</td>\n",
       "      <td>72101290.0</td>\n",
       "      <td>OTHER PLATES,SHEETS,STRIPS</td>\n",
       "      <td>78.99</td>\n",
       "      <td>0.0200</td>\n",
       "      <td>40.22</td>\n",
       "      <td>0.0066</td>\n",
       "      <td>-49.08</td>\n",
       "    </tr>\n",
       "  </tbody>\n",
       "</table>\n",
       "</div>"
      ],
      "text/plain": [
       "     S.No.      HSCode                            Commodity 2020-2021  %Share  \\\n",
       "3267  3268  35069999.0  OTHR PRPD GLUES AND OTHR ADHSVS NES     86.32  0.0219   \n",
       "3548  3549  39074000.0                       POLYCARBONATES    362.71  0.0920   \n",
       "3686  3687  39199090.0        OTHER SELF-ADHSV PLTS ETC NES    322.22  0.0817   \n",
       "6801  6802  72101290.0           OTHER PLATES,SHEETS,STRIPS     78.99  0.0200   \n",
       "\n",
       "     2021-2022  %Share.1 %Growth  \n",
       "3267    109.57    0.0179   26.94  \n",
       "3548    637.81    0.1040   75.85  \n",
       "3686    396.97    0.0648    23.2  \n",
       "6801     40.22    0.0066  -49.08  "
      ]
     },
     "execution_count": 34,
     "metadata": {},
     "output_type": "execute_result"
    }
   ],
   "source": [
    "io_mechanics"
   ]
  },
  {
   "cell_type": "code",
   "execution_count": 35,
   "metadata": {},
   "outputs": [],
   "source": [
    "# Inputs of PCBA\n",
    "io_pcba = imports[(imports['HSCode'] == 39219099) |\n",
    "(imports['HSCode'] == 28332400) |\n",
    "(imports['HSCode'] == 74199990) |\n",
    "(imports['HSCode'] == 28431010) |\n",
    "(imports['HSCode'] == 85369090) |\n",
    "(imports['HSCode'] == 90318000) |\n",
    "(imports['HSCode'] == 85045090)]"
   ]
  },
  {
   "cell_type": "code",
   "execution_count": 42,
   "metadata": {},
   "outputs": [],
   "source": [
    "# Inputs of camera module/connector\n",
    "io_camera = imports[(imports['HSCode'] == 39209999) |\n",
    "(imports['HSCode'] == 85177990)]"
   ]
  },
  {
   "cell_type": "code",
   "execution_count": 44,
   "metadata": {},
   "outputs": [],
   "source": [
    "# Inputs of Chargers\n",
    "io_chargers  = imports[(imports['HSCode'] == 85441110) |\n",
    "(imports['HSCode'] == 39234000) |\n",
    "(imports['HSCode'] == 39199090) |\n",
    "(imports['HSCode'] == 32089049) |\n",
    "(imports['HSCode'] == 85444999)]"
   ]
  },
  {
   "cell_type": "code",
   "execution_count": 45,
   "metadata": {},
   "outputs": [],
   "source": [
    "# Parts of Open Cell Assembly for TV\n",
    "io_tvcell = imports[(imports['HSCode'] == 85299090)]"
   ]
  },
  {
   "cell_type": "code",
   "execution_count": 48,
   "metadata": {},
   "outputs": [],
   "source": [
    "identified_imports  = pd.concat([io_mechanics, io_pcba, io_camera,io_chargers, io_tvcell])"
   ]
  },
  {
   "cell_type": "code",
   "execution_count": 49,
   "metadata": {},
   "outputs": [],
   "source": [
    "identified_imports.to_csv('identified_imports.csv', sep =',')"
   ]
  },
  {
   "cell_type": "code",
   "execution_count": 37,
   "metadata": {},
   "outputs": [],
   "source": [
    "# # inputs of mechanics/metal mechanics \n",
    "# highlighted_imports = imports[(imports['HSCode'] == 39074000) |\n",
    "# (imports['HSCode'] == 39199090) |\n",
    "# (imports['HSCode'] == 35069999) |\n",
    "# (imports['HSCode'] == 72101290) |\n",
    "\n",
    "# # Inputs of PCBA\n",
    "# (imports['HSCode'] == 39219099) |\n",
    "# (imports['HSCode'] == 28332400) |\n",
    "# (imports['HSCode'] == 74199990) |\n",
    "# (imports['HSCode'] == 28431010) |\n",
    "# (imports['HSCode'] == 85369090) |\n",
    "# (imports['HSCode'] == 90318000) |\n",
    "# (imports['HSCode'] == 85045090) |\n",
    "\n",
    "# # Inputs of camera module/connector\n",
    "# (imports['HSCode'] == 39209999) |\n",
    "# (imports['HSCode'] == 85177990) |\n",
    "\n",
    "# # Inputs of Chargers\n",
    "# (imports['HSCode'] == 85441110) |\n",
    "# (imports['HSCode'] == 39234000) |\n",
    "# (imports['HSCode'] == 39199090) |\n",
    "# (imports['HSCode'] == 32089049) |\n",
    "# (imports['HSCode'] == 85444999) |\n",
    "\n",
    "# # Parts of Open Cell Assembly for TV\n",
    "# (imports['HSCode'] == 85299090)]"
   ]
  },
  {
   "cell_type": "code",
   "execution_count": 52,
   "metadata": {},
   "outputs": [
    {
     "data": {
      "text/plain": [
       "ProductCode  ProductGroupName               \n",
       "300120       Intermediate Apparel               1\n",
       "             Intermediate Apparel & Footwear    1\n",
       "300190       Intermediate Apparel               1\n",
       "             Intermediate Apparel & Footwear    1\n",
       "300210       Intermediate Apparel               1\n",
       "dtype: int64"
      ]
     },
     "execution_count": 52,
     "metadata": {},
     "output_type": "execute_result"
    }
   ],
   "source": [
    "code_to_product.head()"
   ]
  },
  {
   "cell_type": "code",
   "execution_count": 53,
   "metadata": {},
   "outputs": [
    {
     "data": {
      "text/plain": [
       "(1807,)"
      ]
     },
     "execution_count": 53,
     "metadata": {},
     "output_type": "execute_result"
    }
   ],
   "source": [
    "code_to_product.shape"
   ]
  },
  {
   "cell_type": "code",
   "execution_count": 58,
   "metadata": {},
   "outputs": [],
   "source": [
    "code_to_product = code_to_product.reset_index()"
   ]
  },
  {
   "cell_type": "code",
   "execution_count": 59,
   "metadata": {},
   "outputs": [
    {
     "data": {
      "text/plain": [
       "(1807, 3)"
      ]
     },
     "execution_count": 59,
     "metadata": {},
     "output_type": "execute_result"
    }
   ],
   "source": [
    "code_to_product.shape"
   ]
  },
  {
   "cell_type": "code",
   "execution_count": 60,
   "metadata": {},
   "outputs": [
    {
     "data": {
      "text/plain": [
       "Index(['ProductCode', 'ProductGroupName', 0], dtype='object')"
      ]
     },
     "execution_count": 60,
     "metadata": {},
     "output_type": "execute_result"
    }
   ],
   "source": [
    "code_to_product.columns"
   ]
  },
  {
   "cell_type": "code",
   "execution_count": 64,
   "metadata": {},
   "outputs": [
    {
     "name": "stdout",
     "output_type": "stream",
     "text": [
      "<class 'pandas.core.frame.DataFrame'>\n",
      "RangeIndex: 1807 entries, 0 to 1806\n",
      "Data columns (total 3 columns):\n",
      " #   Column            Non-Null Count  Dtype \n",
      "---  ------            --------------  ----- \n",
      " 0   ProductCode       1807 non-null   int64 \n",
      " 1   ProductGroupName  1807 non-null   object\n",
      " 2   0                 1807 non-null   int64 \n",
      "dtypes: int64(2), object(1)\n",
      "memory usage: 42.5+ KB\n"
     ]
    }
   ],
   "source": [
    "code_to_product.info()"
   ]
  },
  {
   "cell_type": "code",
   "execution_count": 65,
   "metadata": {},
   "outputs": [
    {
     "name": "stdout",
     "output_type": "stream",
     "text": [
      "      Group String\n",
      "Group             \n",
      "A         A    foo\n",
      "B         B    baz\n"
     ]
    }
   ],
   "source": [
    "import pandas as pd\n",
    "\n",
    "# Create a Pandas DataFrame\n",
    "df = pd.DataFrame({'Group': ['A', 'A', 'B', 'B'], 'String': ['foo', 'bar', 'baz', 'qux']})\n",
    "\n",
    "# Define a custom function that returns the maximum length string for a given group\n",
    "def max_length_string(group):\n",
    "    return group.loc[group['String'].str.len().idxmax()]\n",
    "\n",
    "# Use the apply method to apply the custom function to each group\n",
    "df = df.groupby('Group').apply(max_length_string)\n",
    "\n",
    "print(df)"
   ]
  },
  {
   "cell_type": "code",
   "execution_count": 66,
   "metadata": {},
   "outputs": [],
   "source": [
    "def max_length_string(group):\n",
    "    return group.loc[group['ProductGroupName'].str.len().idxmax()]"
   ]
  },
  {
   "cell_type": "code",
   "execution_count": 70,
   "metadata": {},
   "outputs": [],
   "source": [
    "code_prod_processed = code_to_product.groupby('ProductCode').apply(max_length_string)"
   ]
  },
  {
   "cell_type": "code",
   "execution_count": 86,
   "metadata": {},
   "outputs": [],
   "source": [
    "code_prod_processed.to_csv(\"code_product_proc.csv\")"
   ]
  },
  {
   "cell_type": "code",
   "execution_count": 93,
   "metadata": {},
   "outputs": [],
   "source": [
    "state_exports_21_22_1 = pd.read_excel(\"states_exports_21_22_1.xls\")"
   ]
  },
  {
   "cell_type": "code",
   "execution_count": 94,
   "metadata": {},
   "outputs": [
    {
     "data": {
      "text/html": [
       "<div>\n",
       "<style scoped>\n",
       "    .dataframe tbody tr th:only-of-type {\n",
       "        vertical-align: middle;\n",
       "    }\n",
       "\n",
       "    .dataframe tbody tr th {\n",
       "        vertical-align: top;\n",
       "    }\n",
       "\n",
       "    .dataframe thead th {\n",
       "        text-align: right;\n",
       "    }\n",
       "</style>\n",
       "<table border=\"1\" class=\"dataframe\">\n",
       "  <thead>\n",
       "    <tr style=\"text-align: right;\">\n",
       "      <th></th>\n",
       "      <th>HSCode</th>\n",
       "      <th>State</th>\n",
       "      <th>Commodity Description</th>\n",
       "      <th>March, 22 Value(INR)</th>\n",
       "      <th>March, 22 Value(US $)</th>\n",
       "      <th>April, 21 To March, 22 Value(INR)</th>\n",
       "      <th>April, 21 To March, 22 Value(US $)</th>\n",
       "    </tr>\n",
       "  </thead>\n",
       "  <tbody>\n",
       "    <tr>\n",
       "      <th>0</th>\n",
       "      <td>30359</td>\n",
       "      <td>ANDAMAN &amp; NICOBAR</td>\n",
       "      <td>OTHER FISH INCL INDIAN MACKERELS, CREVALLES, S...</td>\n",
       "      <td>2874220</td>\n",
       "      <td>37697</td>\n",
       "      <td>65912733</td>\n",
       "      <td>884253</td>\n",
       "    </tr>\n",
       "    <tr>\n",
       "      <th>1</th>\n",
       "      <td>30389</td>\n",
       "      <td>ANDAMAN &amp; NICOBAR</td>\n",
       "      <td>OTHER:</td>\n",
       "      <td>4100064</td>\n",
       "      <td>53775</td>\n",
       "      <td>9966245</td>\n",
       "      <td>132557</td>\n",
       "    </tr>\n",
       "    <tr>\n",
       "      <th>2</th>\n",
       "      <td>390610</td>\n",
       "      <td>ANDAMAN &amp; NICOBAR</td>\n",
       "      <td>POLYMETHYL METHACRYLATE</td>\n",
       "      <td>107568</td>\n",
       "      <td>1411</td>\n",
       "      <td>107568</td>\n",
       "      <td>1411</td>\n",
       "    </tr>\n",
       "    <tr>\n",
       "      <th>3</th>\n",
       "      <td>400400</td>\n",
       "      <td>ANDAMAN &amp; NICOBAR</td>\n",
       "      <td>WASTE,PARINGS AND SCRAP OF RUBR(BESIDES HARDRU...</td>\n",
       "      <td>0</td>\n",
       "      <td>0</td>\n",
       "      <td>1125</td>\n",
       "      <td>15</td>\n",
       "    </tr>\n",
       "    <tr>\n",
       "      <th>4</th>\n",
       "      <td>401110</td>\n",
       "      <td>ANDAMAN &amp; NICOBAR</td>\n",
       "      <td>NEW PNMTC TYRES OF A KND USED ON MOTOR    CARS...</td>\n",
       "      <td>0</td>\n",
       "      <td>0</td>\n",
       "      <td>22800</td>\n",
       "      <td>310</td>\n",
       "    </tr>\n",
       "  </tbody>\n",
       "</table>\n",
       "</div>"
      ],
      "text/plain": [
       "   HSCode             State   \\\n",
       "0   30359  ANDAMAN & NICOBAR   \n",
       "1   30389  ANDAMAN & NICOBAR   \n",
       "2  390610  ANDAMAN & NICOBAR   \n",
       "3  400400  ANDAMAN & NICOBAR   \n",
       "4  401110  ANDAMAN & NICOBAR   \n",
       "\n",
       "                               Commodity Description  March, 22 Value(INR)  \\\n",
       "0  OTHER FISH INCL INDIAN MACKERELS, CREVALLES, S...               2874220   \n",
       "1                                             OTHER:               4100064   \n",
       "2                            POLYMETHYL METHACRYLATE                107568   \n",
       "3  WASTE,PARINGS AND SCRAP OF RUBR(BESIDES HARDRU...                     0   \n",
       "4  NEW PNMTC TYRES OF A KND USED ON MOTOR    CARS...                     0   \n",
       "\n",
       "   March, 22 Value(US $)  April, 21 To March, 22 Value(INR)  \\\n",
       "0                  37697                           65912733   \n",
       "1                  53775                            9966245   \n",
       "2                   1411                             107568   \n",
       "3                      0                               1125   \n",
       "4                      0                              22800   \n",
       "\n",
       "   April, 21 To March, 22 Value(US $)  \n",
       "0                              884253  \n",
       "1                              132557  \n",
       "2                                1411  \n",
       "3                                  15  \n",
       "4                                 310  "
      ]
     },
     "execution_count": 94,
     "metadata": {},
     "output_type": "execute_result"
    }
   ],
   "source": [
    "state_exports_21_22_1.head()"
   ]
  },
  {
   "cell_type": "code",
   "execution_count": 95,
   "metadata": {},
   "outputs": [
    {
     "name": "stdout",
     "output_type": "stream",
     "text": [
      "<class 'pandas.core.frame.DataFrame'>\n",
      "RangeIndex: 10001 entries, 0 to 10000\n",
      "Data columns (total 7 columns):\n",
      " #   Column                              Non-Null Count  Dtype \n",
      "---  ------                              --------------  ----- \n",
      " 0   HSCode                              10001 non-null  int64 \n",
      " 1   State                               10001 non-null  object\n",
      " 2   Commodity Description               10001 non-null  object\n",
      " 3   March, 22 Value(INR)                10001 non-null  int64 \n",
      " 4   March, 22 Value(US $)               10001 non-null  int64 \n",
      " 5   April, 21 To March, 22 Value(INR)   10001 non-null  int64 \n",
      " 6   April, 21 To March, 22 Value(US $)  10001 non-null  int64 \n",
      "dtypes: int64(5), object(2)\n",
      "memory usage: 547.1+ KB\n"
     ]
    }
   ],
   "source": [
    "state_exports_21_22_1.info()"
   ]
  },
  {
   "cell_type": "code",
   "execution_count": 96,
   "metadata": {},
   "outputs": [],
   "source": [
    "state_exports_21_22_1['HSCode'] = state_exports_21_22_1['HSCode'].astype(object)"
   ]
  },
  {
   "cell_type": "code",
   "execution_count": 97,
   "metadata": {},
   "outputs": [
    {
     "data": {
      "text/html": [
       "<div>\n",
       "<style scoped>\n",
       "    .dataframe tbody tr th:only-of-type {\n",
       "        vertical-align: middle;\n",
       "    }\n",
       "\n",
       "    .dataframe tbody tr th {\n",
       "        vertical-align: top;\n",
       "    }\n",
       "\n",
       "    .dataframe thead th {\n",
       "        text-align: right;\n",
       "    }\n",
       "</style>\n",
       "<table border=\"1\" class=\"dataframe\">\n",
       "  <thead>\n",
       "    <tr style=\"text-align: right;\">\n",
       "      <th></th>\n",
       "      <th>HSCode</th>\n",
       "      <th>State</th>\n",
       "      <th>Commodity Description</th>\n",
       "      <th>March, 22 Value(INR)</th>\n",
       "      <th>March, 22 Value(US $)</th>\n",
       "      <th>April, 21 To March, 22 Value(INR)</th>\n",
       "      <th>April, 21 To March, 22 Value(US $)</th>\n",
       "    </tr>\n",
       "  </thead>\n",
       "  <tbody>\n",
       "    <tr>\n",
       "      <th>0</th>\n",
       "      <td>30359</td>\n",
       "      <td>ANDAMAN &amp; NICOBAR</td>\n",
       "      <td>OTHER FISH INCL INDIAN MACKERELS, CREVALLES, S...</td>\n",
       "      <td>2874220</td>\n",
       "      <td>37697</td>\n",
       "      <td>65912733</td>\n",
       "      <td>884253</td>\n",
       "    </tr>\n",
       "    <tr>\n",
       "      <th>1</th>\n",
       "      <td>30389</td>\n",
       "      <td>ANDAMAN &amp; NICOBAR</td>\n",
       "      <td>OTHER:</td>\n",
       "      <td>4100064</td>\n",
       "      <td>53775</td>\n",
       "      <td>9966245</td>\n",
       "      <td>132557</td>\n",
       "    </tr>\n",
       "    <tr>\n",
       "      <th>2</th>\n",
       "      <td>390610</td>\n",
       "      <td>ANDAMAN &amp; NICOBAR</td>\n",
       "      <td>POLYMETHYL METHACRYLATE</td>\n",
       "      <td>107568</td>\n",
       "      <td>1411</td>\n",
       "      <td>107568</td>\n",
       "      <td>1411</td>\n",
       "    </tr>\n",
       "    <tr>\n",
       "      <th>3</th>\n",
       "      <td>400400</td>\n",
       "      <td>ANDAMAN &amp; NICOBAR</td>\n",
       "      <td>WASTE,PARINGS AND SCRAP OF RUBR(BESIDES HARDRU...</td>\n",
       "      <td>0</td>\n",
       "      <td>0</td>\n",
       "      <td>1125</td>\n",
       "      <td>15</td>\n",
       "    </tr>\n",
       "    <tr>\n",
       "      <th>4</th>\n",
       "      <td>401110</td>\n",
       "      <td>ANDAMAN &amp; NICOBAR</td>\n",
       "      <td>NEW PNMTC TYRES OF A KND USED ON MOTOR    CARS...</td>\n",
       "      <td>0</td>\n",
       "      <td>0</td>\n",
       "      <td>22800</td>\n",
       "      <td>310</td>\n",
       "    </tr>\n",
       "  </tbody>\n",
       "</table>\n",
       "</div>"
      ],
      "text/plain": [
       "   HSCode             State   \\\n",
       "0   30359  ANDAMAN & NICOBAR   \n",
       "1   30389  ANDAMAN & NICOBAR   \n",
       "2  390610  ANDAMAN & NICOBAR   \n",
       "3  400400  ANDAMAN & NICOBAR   \n",
       "4  401110  ANDAMAN & NICOBAR   \n",
       "\n",
       "                               Commodity Description  March, 22 Value(INR)  \\\n",
       "0  OTHER FISH INCL INDIAN MACKERELS, CREVALLES, S...               2874220   \n",
       "1                                             OTHER:               4100064   \n",
       "2                            POLYMETHYL METHACRYLATE                107568   \n",
       "3  WASTE,PARINGS AND SCRAP OF RUBR(BESIDES HARDRU...                     0   \n",
       "4  NEW PNMTC TYRES OF A KND USED ON MOTOR    CARS...                     0   \n",
       "\n",
       "   March, 22 Value(US $)  April, 21 To March, 22 Value(INR)  \\\n",
       "0                  37697                           65912733   \n",
       "1                  53775                            9966245   \n",
       "2                   1411                             107568   \n",
       "3                      0                               1125   \n",
       "4                      0                              22800   \n",
       "\n",
       "   April, 21 To March, 22 Value(US $)  \n",
       "0                              884253  \n",
       "1                              132557  \n",
       "2                                1411  \n",
       "3                                  15  \n",
       "4                                 310  "
      ]
     },
     "execution_count": 97,
     "metadata": {},
     "output_type": "execute_result"
    }
   ],
   "source": [
    "state_exports_21_22_1.head()"
   ]
  },
  {
   "cell_type": "code",
   "execution_count": 100,
   "metadata": {},
   "outputs": [
    {
     "data": {
      "text/plain": [
       "Index(['HSCode', 'ProductGroupName', 0], dtype='object')"
      ]
     },
     "execution_count": 100,
     "metadata": {},
     "output_type": "execute_result"
    }
   ],
   "source": [
    "code_prod_processed.columns"
   ]
  },
  {
   "cell_type": "code",
   "execution_count": 99,
   "metadata": {},
   "outputs": [],
   "source": [
    "code_prod_processed.rename(columns={'ProductCode': 'HSCode'}, inplace=True)"
   ]
  },
  {
   "cell_type": "code",
   "execution_count": 101,
   "metadata": {},
   "outputs": [
    {
     "data": {
      "text/plain": [
       "(1112, 3)"
      ]
     },
     "execution_count": 101,
     "metadata": {},
     "output_type": "execute_result"
    }
   ],
   "source": [
    "code_prod_processed.shape"
   ]
  },
  {
   "cell_type": "code",
   "execution_count": 104,
   "metadata": {},
   "outputs": [],
   "source": [
    "gvc_ref = pd.read_csv(\"code_product_processed.csv\")"
   ]
  },
  {
   "cell_type": "code",
   "execution_count": 105,
   "metadata": {},
   "outputs": [
    {
     "data": {
      "text/html": [
       "<div>\n",
       "<style scoped>\n",
       "    .dataframe tbody tr th:only-of-type {\n",
       "        vertical-align: middle;\n",
       "    }\n",
       "\n",
       "    .dataframe tbody tr th {\n",
       "        vertical-align: top;\n",
       "    }\n",
       "\n",
       "    .dataframe thead th {\n",
       "        text-align: right;\n",
       "    }\n",
       "</style>\n",
       "<table border=\"1\" class=\"dataframe\">\n",
       "  <thead>\n",
       "    <tr style=\"text-align: right;\">\n",
       "      <th></th>\n",
       "      <th>HSCode</th>\n",
       "      <th>ProductGroupName</th>\n",
       "    </tr>\n",
       "  </thead>\n",
       "  <tbody>\n",
       "    <tr>\n",
       "      <th>0</th>\n",
       "      <td>300120</td>\n",
       "      <td>Intermediate Apparel &amp; Footwear</td>\n",
       "    </tr>\n",
       "    <tr>\n",
       "      <th>1</th>\n",
       "      <td>300190</td>\n",
       "      <td>Intermediate Apparel &amp; Footwear</td>\n",
       "    </tr>\n",
       "    <tr>\n",
       "      <th>2</th>\n",
       "      <td>300210</td>\n",
       "      <td>Intermediate Apparel &amp; Footwear</td>\n",
       "    </tr>\n",
       "    <tr>\n",
       "      <th>3</th>\n",
       "      <td>300220</td>\n",
       "      <td>Intermediate Apparel &amp; Footwear</td>\n",
       "    </tr>\n",
       "    <tr>\n",
       "      <th>4</th>\n",
       "      <td>300230</td>\n",
       "      <td>Intermediate Apparel &amp; Footwear</td>\n",
       "    </tr>\n",
       "  </tbody>\n",
       "</table>\n",
       "</div>"
      ],
      "text/plain": [
       "   HSCode                 ProductGroupName\n",
       "0  300120  Intermediate Apparel & Footwear\n",
       "1  300190  Intermediate Apparel & Footwear\n",
       "2  300210  Intermediate Apparel & Footwear\n",
       "3  300220  Intermediate Apparel & Footwear\n",
       "4  300230  Intermediate Apparel & Footwear"
      ]
     },
     "execution_count": 105,
     "metadata": {},
     "output_type": "execute_result"
    }
   ],
   "source": [
    "gvc_ref.head()"
   ]
  },
  {
   "cell_type": "code",
   "execution_count": 106,
   "metadata": {},
   "outputs": [
    {
     "name": "stderr",
     "output_type": "stream",
     "text": [
      "/var/folders/p1/q5c9bp1x46v472t6zd7w4hcw0000gn/T/ipykernel_1338/1931461861.py:1: FutureWarning: In a future version, the Index constructor will not infer numeric dtypes when passed object-dtype sequences (matching Series behavior)\n",
      "  df_lookup = pd.merge(state_exports_21_22_1, gvc_ref, on='HSCode', how = 'outer')\n"
     ]
    }
   ],
   "source": [
    "df_lookup = pd.merge(state_exports_21_22_1, gvc_ref, on='HSCode', how = 'outer')\n",
    "\n",
    "#df_outer = pd.merge(df1, df2, on='id', how='outer')\n"
   ]
  },
  {
   "cell_type": "code",
   "execution_count": 107,
   "metadata": {},
   "outputs": [
    {
     "data": {
      "text/html": [
       "<div>\n",
       "<style scoped>\n",
       "    .dataframe tbody tr th:only-of-type {\n",
       "        vertical-align: middle;\n",
       "    }\n",
       "\n",
       "    .dataframe tbody tr th {\n",
       "        vertical-align: top;\n",
       "    }\n",
       "\n",
       "    .dataframe thead th {\n",
       "        text-align: right;\n",
       "    }\n",
       "</style>\n",
       "<table border=\"1\" class=\"dataframe\">\n",
       "  <thead>\n",
       "    <tr style=\"text-align: right;\">\n",
       "      <th></th>\n",
       "      <th>HSCode</th>\n",
       "      <th>State</th>\n",
       "      <th>Commodity Description</th>\n",
       "      <th>March, 22 Value(INR)</th>\n",
       "      <th>March, 22 Value(US $)</th>\n",
       "      <th>April, 21 To March, 22 Value(INR)</th>\n",
       "      <th>April, 21 To March, 22 Value(US $)</th>\n",
       "      <th>ProductGroupName</th>\n",
       "    </tr>\n",
       "  </thead>\n",
       "  <tbody>\n",
       "    <tr>\n",
       "      <th>0</th>\n",
       "      <td>30359.0</td>\n",
       "      <td>ANDAMAN &amp; NICOBAR</td>\n",
       "      <td>OTHER FISH INCL INDIAN MACKERELS, CREVALLES, S...</td>\n",
       "      <td>2874220.0</td>\n",
       "      <td>37697.0</td>\n",
       "      <td>65912733.0</td>\n",
       "      <td>884253.0</td>\n",
       "      <td>NaN</td>\n",
       "    </tr>\n",
       "    <tr>\n",
       "      <th>1</th>\n",
       "      <td>30359.0</td>\n",
       "      <td>ANDHRA PRADESH</td>\n",
       "      <td>OTHER FISH INCL INDIAN MACKERELS, CREVALLES, S...</td>\n",
       "      <td>3162890.0</td>\n",
       "      <td>41484.0</td>\n",
       "      <td>21676829.0</td>\n",
       "      <td>290787.0</td>\n",
       "      <td>NaN</td>\n",
       "    </tr>\n",
       "    <tr>\n",
       "      <th>2</th>\n",
       "      <td>30389.0</td>\n",
       "      <td>ANDAMAN &amp; NICOBAR</td>\n",
       "      <td>OTHER:</td>\n",
       "      <td>4100064.0</td>\n",
       "      <td>53775.0</td>\n",
       "      <td>9966245.0</td>\n",
       "      <td>132557.0</td>\n",
       "      <td>NaN</td>\n",
       "    </tr>\n",
       "    <tr>\n",
       "      <th>3</th>\n",
       "      <td>30389.0</td>\n",
       "      <td>ANDHRA PRADESH</td>\n",
       "      <td>OTHER:</td>\n",
       "      <td>2587350.0</td>\n",
       "      <td>33935.0</td>\n",
       "      <td>83316497.0</td>\n",
       "      <td>1119124.0</td>\n",
       "      <td>NaN</td>\n",
       "    </tr>\n",
       "    <tr>\n",
       "      <th>4</th>\n",
       "      <td>30389.0</td>\n",
       "      <td>DADRA &amp; NAGAR HAVELI</td>\n",
       "      <td>OTHER:</td>\n",
       "      <td>0.0</td>\n",
       "      <td>0.0</td>\n",
       "      <td>11103172.0</td>\n",
       "      <td>148156.0</td>\n",
       "      <td>NaN</td>\n",
       "    </tr>\n",
       "  </tbody>\n",
       "</table>\n",
       "</div>"
      ],
      "text/plain": [
       "    HSCode                State   \\\n",
       "0  30359.0     ANDAMAN & NICOBAR   \n",
       "1  30359.0        ANDHRA PRADESH   \n",
       "2  30389.0     ANDAMAN & NICOBAR   \n",
       "3  30389.0        ANDHRA PRADESH   \n",
       "4  30389.0  DADRA & NAGAR HAVELI   \n",
       "\n",
       "                               Commodity Description  March, 22 Value(INR)  \\\n",
       "0  OTHER FISH INCL INDIAN MACKERELS, CREVALLES, S...             2874220.0   \n",
       "1  OTHER FISH INCL INDIAN MACKERELS, CREVALLES, S...             3162890.0   \n",
       "2                                             OTHER:             4100064.0   \n",
       "3                                             OTHER:             2587350.0   \n",
       "4                                             OTHER:                   0.0   \n",
       "\n",
       "   March, 22 Value(US $)  April, 21 To March, 22 Value(INR)  \\\n",
       "0                37697.0                         65912733.0   \n",
       "1                41484.0                         21676829.0   \n",
       "2                53775.0                          9966245.0   \n",
       "3                33935.0                         83316497.0   \n",
       "4                    0.0                         11103172.0   \n",
       "\n",
       "   April, 21 To March, 22 Value(US $) ProductGroupName  \n",
       "0                            884253.0              NaN  \n",
       "1                            290787.0              NaN  \n",
       "2                            132557.0              NaN  \n",
       "3                           1119124.0              NaN  \n",
       "4                            148156.0              NaN  "
      ]
     },
     "execution_count": 107,
     "metadata": {},
     "output_type": "execute_result"
    }
   ],
   "source": [
    "df_lookup.head()"
   ]
  },
  {
   "cell_type": "code",
   "execution_count": 108,
   "metadata": {},
   "outputs": [],
   "source": [
    "df_lookup.to_csv(\"final_file.csv\")"
   ]
  },
  {
   "cell_type": "code",
   "execution_count": 109,
   "metadata": {},
   "outputs": [],
   "source": [
    "df_lookup1 = pd.merge(state_exports_21_22_1, gvc_ref, on='HSCode', how = 'inner')"
   ]
  },
  {
   "cell_type": "code",
   "execution_count": 110,
   "metadata": {},
   "outputs": [],
   "source": [
    "df_lookup1.to_csv(\"filtered_file.csv\")"
   ]
  },
  {
   "cell_type": "code",
   "execution_count": null,
   "metadata": {},
   "outputs": [],
   "source": []
  }
 ],
 "metadata": {
  "kernelspec": {
   "display_name": "Python 3",
   "language": "python",
   "name": "python3"
  },
  "language_info": {
   "codemirror_mode": {
    "name": "ipython",
    "version": 3
   },
   "file_extension": ".py",
   "mimetype": "text/x-python",
   "name": "python",
   "nbconvert_exporter": "python",
   "pygments_lexer": "ipython3",
   "version": "3.10.8"
  },
  "orig_nbformat": 4,
  "vscode": {
   "interpreter": {
    "hash": "af217a81552b0cc882adb1ed7a3eba92370307c2dd9cc5646713c624a4b150b8"
   }
  }
 },
 "nbformat": 4,
 "nbformat_minor": 2
}
